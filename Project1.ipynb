{
  "nbformat": 4,
  "nbformat_minor": 0,
  "metadata": {
    "colab": {
      "provenance": []
    },
    "kernelspec": {
      "name": "python3",
      "display_name": "Python 3"
    },
    "language_info": {
      "name": "python"
    }
  },
  "cells": [
    {
      "cell_type": "code",
      "source": [
        "!pip install pandas\n",
        "!pip install matplotlib\n",
        "\n",
        "import pandas as pd\n",
        "import matplotlib.pyplot as plt\n",
        "\n",
        "df = pd.read_csv('https://raw.githubusercontent.com/CunyLaguardiaDataAnalytics/datasets/master/2014-15_To_2016-17_School-_Level_NYC_Regents_Report_For_All_Variables.csv')\n",
        "mean_score('01M034','01M140') #uses the function I created with the two school DBN numbers\n",
        "drop_cols = ['Percent Scoring CR','Number Scoring CR']\n",
        "df.drop(drop_cols,axis=1,inplace =True) #dropped two columns that showed a lot of null values\n",
        "\n",
        "\n",
        "\n"
      ],
      "metadata": {
        "colab": {
          "base_uri": "https://localhost:8080/",
          "height": 762
        },
        "id": "IUX9_9ZKi8TM",
        "outputId": "acc271f4-c056-44f5-e156-ba1219278d38"
      },
      "execution_count": null,
      "outputs": [
        {
          "output_type": "stream",
          "name": "stdout",
          "text": [
            "Requirement already satisfied: pandas in /usr/local/lib/python3.11/dist-packages (2.2.2)\n",
            "Requirement already satisfied: numpy>=1.23.2 in /usr/local/lib/python3.11/dist-packages (from pandas) (1.26.4)\n",
            "Requirement already satisfied: python-dateutil>=2.8.2 in /usr/local/lib/python3.11/dist-packages (from pandas) (2.8.2)\n",
            "Requirement already satisfied: pytz>=2020.1 in /usr/local/lib/python3.11/dist-packages (from pandas) (2025.1)\n",
            "Requirement already satisfied: tzdata>=2022.7 in /usr/local/lib/python3.11/dist-packages (from pandas) (2025.1)\n",
            "Requirement already satisfied: six>=1.5 in /usr/local/lib/python3.11/dist-packages (from python-dateutil>=2.8.2->pandas) (1.17.0)\n",
            "Requirement already satisfied: matplotlib in /usr/local/lib/python3.11/dist-packages (3.10.0)\n",
            "Requirement already satisfied: contourpy>=1.0.1 in /usr/local/lib/python3.11/dist-packages (from matplotlib) (1.3.1)\n",
            "Requirement already satisfied: cycler>=0.10 in /usr/local/lib/python3.11/dist-packages (from matplotlib) (0.12.1)\n",
            "Requirement already satisfied: fonttools>=4.22.0 in /usr/local/lib/python3.11/dist-packages (from matplotlib) (4.56.0)\n",
            "Requirement already satisfied: kiwisolver>=1.3.1 in /usr/local/lib/python3.11/dist-packages (from matplotlib) (1.4.8)\n",
            "Requirement already satisfied: numpy>=1.23 in /usr/local/lib/python3.11/dist-packages (from matplotlib) (1.26.4)\n",
            "Requirement already satisfied: packaging>=20.0 in /usr/local/lib/python3.11/dist-packages (from matplotlib) (24.2)\n",
            "Requirement already satisfied: pillow>=8 in /usr/local/lib/python3.11/dist-packages (from matplotlib) (11.1.0)\n",
            "Requirement already satisfied: pyparsing>=2.3.1 in /usr/local/lib/python3.11/dist-packages (from matplotlib) (3.2.1)\n",
            "Requirement already satisfied: python-dateutil>=2.7 in /usr/local/lib/python3.11/dist-packages (from matplotlib) (2.8.2)\n",
            "Requirement already satisfied: six>=1.5 in /usr/local/lib/python3.11/dist-packages (from python-dateutil>=2.7->matplotlib) (1.17.0)\n",
            "P.S. 034 Franklin D. Roosevelt has a higher average of  77.0  than  P.S. 140 Nathan Straus of  68.0\n"
          ]
        },
        {
          "output_type": "display_data",
          "data": {
            "text/plain": [
              "<Figure size 640x480 with 1 Axes>"
            ],
            "image/png": "[encoded data removed]"
          },
          "metadata": {}
        }
      ]
    },
    {
      "cell_type": "code",
      "source": [
        "def mean_score(x,y):\n",
        "\n",
        "  df['Mean Score'] = pd.to_numeric(df['Mean Score'],errors ='coerce') ## converted mean score to numeric because it was a stringww\n",
        "\n",
        "  xmean = df[df['School DBN']==x]['Mean Score'].mean().round()\n",
        "  ymean = df[df['School DBN']==y]['Mean Score'].mean().round() ##used the schoool dbn rather than name because deemed it a better indicator of school\n",
        "  #rounded the mean score because the average of Nathan Straus school ended up in a very long decimal value.\n",
        "\n",
        "  namex = df[df['School DBN']==x]['School Name'].iloc[0]\n",
        "  namey = df[df['School DBN']==y]['School Name'].iloc[0]\n",
        "\n",
        "  xyname = [namex,namey]\n",
        "  xymean = [xmean,ymean]\n",
        "  plt.bar(xyname,xymean)\n",
        "  plt.show\n",
        "\n",
        "  if(xmean > ymean):\n",
        "    print(namex,\"has a higher average of \",xmean,\" than \",namey, \"of \",ymean,)\n",
        "  else:\n",
        "    print(namey,\"has a higher average of \",ymean,\" than \",namex, \"of \",ymean,)\n",
        "\n"
      ],
      "metadata": {
        "id": "VUq8FbeaYlU7"
      },
      "execution_count": null,
      "outputs": []
    },
    {
      "cell_type": "markdown",
      "source": [],
      "metadata": {
        "id": "GlAqQV-FPkdx"
      }
    },
    {
      "cell_type": "code",
      "source": [
        "regentsScore = df.groupby(['School Name','Regents Exam'])['Mean Score'].mean()\n",
        "print(regentsScore)"
      ],
      "metadata": {
        "colab": {
          "base_uri": "https://localhost:8080/"
        },
        "id": "oxAzPD12cPh_",
        "outputId": "f2b3f731-dba8-40ec-e21c-0ec33b35b4e9"
      },
      "execution_count": null,
      "outputs": [
        {
          "output_type": "stream",
          "name": "stdout",
          "text": [
            "School Name                                         Regents Exam                   \n",
            "47 The American Sign Language and English Secondar  Algebra2/Trigonometry              42.800000\n",
            "                                                    Common Core Algebra                61.663636\n",
            "                                                    Common Core Algebra2               58.950000\n",
            "                                                    Common Core English                67.840909\n",
            "                                                    Common Core Geometry               54.533333\n",
            "                                                                                         ...    \n",
            "Young Women's Leadership School, Queens             Integrated Algebra                 67.164286\n",
            "                                                    Living Environment                 70.832000\n",
            "                                                    Physical Settings/Chemistry        60.015789\n",
            "                                                    Physical Settings/Earth Science    69.332000\n",
            "                                                    U.S. History and Government        79.129167\n",
            "Name: Mean Score, Length: 8088, dtype: float64\n"
          ]
        }
      ]
    }
  ]
}